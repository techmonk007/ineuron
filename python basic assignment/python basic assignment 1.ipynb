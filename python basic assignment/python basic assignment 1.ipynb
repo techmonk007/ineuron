{
 "cells": [
  {
   "cell_type": "markdown",
   "metadata": {},
   "source": [
    "# 1. In the below elements which of them are values or an expression? eg:- values can be integer or string and expressions will be mathematical operators.\n",
    "  \n"
   ]
  },
  {
   "cell_type": "raw",
   "metadata": {},
   "source": [
    "* --- expression\n",
    "'hello' --- value(string)\n",
    "-87.8   --- value(float)\n",
    "-       --- expression\n",
    "/       --- expression\n",
    "+       --- expression\n",
    "6       --- value(int)"
   ]
  },
  {
   "cell_type": "markdown",
   "metadata": {},
   "source": [
    "# 2. What is the difference between string and variable?"
   ]
  },
  {
   "cell_type": "raw",
   "metadata": {},
   "source": [
    "string --- string contains group of characters which are enclosed in '' or \"\". string is a datatype\n",
    "variable --- variable are reserved memory location or container to store values, with the help of variable we can call \n",
    "              value in program at any particular time"
   ]
  },
  {
   "cell_type": "markdown",
   "metadata": {},
   "source": [
    "# 3. Describe three different data types."
   ]
  },
  {
   "cell_type": "raw",
   "metadata": {},
   "source": [
    "int --- int data type is used to store integer value(eg.  1,2 ,3)\n",
    "float --- float data type is used to store decimal values ( eg.  1.2, 3.14)\n",
    "str --- str data type is used to store character.  (eg. 'a', 'abbaba')"
   ]
  },
  {
   "cell_type": "markdown",
   "metadata": {},
   "source": [
    "# 4. What is an expression made up of? What do all expressions do?"
   ]
  },
  {
   "cell_type": "raw",
   "metadata": {},
   "source": [
    "Expression is made up of values and operators and variables  (eg. 1+2, 555*11)\n",
    "Expression are used to evaluate the value and operator and return value"
   ]
  },
  {
   "cell_type": "markdown",
   "metadata": {},
   "source": [
    "# 5. This assignment statements, like spam = 10. What is the difference between an expression and a statement?"
   ]
  },
  {
   "cell_type": "raw",
   "metadata": {},
   "source": [
    "*Expression is the combination of values , operators , varibales that return a value\n",
    "\n",
    "*Statements represents action or command\n",
    "*Statements are everything that can make up a line (or several lines) \n",
    "*Note that expressions are statements as well.\n",
    "*Expressions are part of statement\n",
    "\n",
    "*expression statements ==== print(5*10)"
   ]
  },
  {
   "cell_type": "markdown",
   "metadata": {},
   "source": [
    "# 6. After running the following code, what does the variable bacon contain?\n",
    "## bacon = 22\n",
    "## bacon + 1"
   ]
  },
  {
   "cell_type": "raw",
   "metadata": {},
   "source": [
    "22"
   ]
  },
  {
   "cell_type": "markdown",
   "metadata": {},
   "source": [
    "# 7. What should the values of the following two terms be?\n",
    "## 'spam' + 'spamspam' ---- 'spamspamspam'\n",
    "## 'spam' * 3          ---- 'spamspamspam'"
   ]
  },
  {
   "cell_type": "markdown",
   "metadata": {},
   "source": [
    "# 8. Why is eggs a valid variable name while 100 is invalid?"
   ]
  },
  {
   "cell_type": "raw",
   "metadata": {},
   "source": [
    "A varibale name can start with alphabets but can't be start with number"
   ]
  },
  {
   "cell_type": "markdown",
   "metadata": {},
   "source": [
    "# 9. What three functions can be used to get the integer, floating-point number, or string version of a value?"
   ]
  },
  {
   "cell_type": "raw",
   "metadata": {},
   "source": [
    "integer === int()\n",
    "floating-point ==== float()\n",
    "string value. ==== str()"
   ]
  },
  {
   "cell_type": "markdown",
   "metadata": {},
   "source": [
    "# 10. Why does this expression cause an error? How can you fix it?\n",
    "## 'I have eaten ' + 99 + ' burritos.'"
   ]
  },
  {
   "cell_type": "raw",
   "metadata": {},
   "source": [
    "int cannot be concat with str\n",
    "we need to change 99(int)  to str type\n",
    "'I have eaten'+str(99)+'burritos'"
   ]
  },
  {
   "cell_type": "code",
   "execution_count": null,
   "metadata": {},
   "outputs": [],
   "source": []
  }
 ],
 "metadata": {
  "kernelspec": {
   "display_name": "Python 3",
   "language": "python",
   "name": "python3"
  },
  "language_info": {
   "codemirror_mode": {
    "name": "ipython",
    "version": 3
   },
   "file_extension": ".py",
   "mimetype": "text/x-python",
   "name": "python",
   "nbconvert_exporter": "python",
   "pygments_lexer": "ipython3",
   "version": "3.8.5"
  }
 },
 "nbformat": 4,
 "nbformat_minor": 4
}
